{
 "cells": [
  {
   "cell_type": "code",
   "execution_count": null,
   "metadata": {},
   "outputs": [],
   "source": [
    "import numpy as np\n",
    "import pandas as pd\n",
    "import matplotlib.pyplot as plt\n",
    "import cv2\n",
    "import os\n",
    "\n",
    "from tensorflow.keras.models import Sequential\n",
    "from tensorflow.keras.layers import Conv2D, MaxPooling2D, Dense, Flatten, Dropout, BatchNormalization, Activation\n",
    "from tensorflow.keras.optimizers import Adam"
   ]
  },
  {
   "cell_type": "code",
   "execution_count": null,
   "metadata": {},
   "outputs": [],
   "source": [
    "# Bring in train and test data \n",
    "X_train = np.load('./Data/X_train.npy')\n",
    "X_test = np.load('./Data/X_test.npy')\n",
    "\n",
    "y_train = np.load('./Data/y_train.npy')\n",
    "y_test = np.load('./Data/y_test.npy')"
   ]
  },
  {
   "cell_type": "code",
   "execution_count": null,
   "metadata": {},
   "outputs": [],
   "source": [
    "# Set dimensions of images, 1 for one layer\n",
    "im_shape = (360, 480, 1)\n",
    "\n",
    "X_train = X_train.reshape(X_train.shape[0], *im_shape)\n",
    "X_test = X_test.reshape(X_test.shape[0], *im_shape)"
   ]
  },
  {
   "cell_type": "markdown",
   "metadata": {},
   "source": [
    "### Build CNN model using AlexNet architecture"
   ]
  },
  {
   "cell_type": "code",
   "execution_count": null,
   "metadata": {},
   "outputs": [],
   "source": [
    "cnn_model = Sequential([\n",
    "    Conv2D(filters=96, kernel_size=(13, 13), strides=4,  input_shape=im_shape),\n",
    "    BatchNormalization(axis=3),\n",
    "    Activation('relu'),\n",
    "    MaxPooling2D(pool_size=(3, 3), strides=2),\n",
    "    Dropout(0.2),\n",
    "    Conv2D(filters=256, kernel_size=(7, 7), padding='same'),\n",
    "    BatchNormalization(axis=3),\n",
    "    Activation('relu'),\n",
    "    MaxPooling2D(pool_size=(3, 3), strides=2),\n",
    "    Dropout(0.2),\n",
    "    Conv2D(filters=384, kernel_size=(3, 3), padding='same'),\n",
    "    BatchNormalization(axis=3),\n",
    "    Activation('relu'),\n",
    "    Dropout(0.2),\n",
    "    Conv2D(filters=384, kernel_size=(3, 3), padding='same'),\n",
    "    BatchNormalization(axis=3),\n",
    "    Activation('relu'),\n",
    "    Dropout(0.2),\n",
    "    Conv2D(filters=256, kernel_size=(3, 3), padding='same'),\n",
    "    BatchNormalization(axis=3),\n",
    "    Activation('relu'),\n",
    "    Dropout(0.2),\n",
    "    MaxPooling2D(pool_size=(3, 3), strides=2),\n",
    "    Flatten(),\n",
    "    Dense(4096, activation='relu'),\n",
    "    Dense(4096, activation='relu'),\n",
    "    Dense(2, activation='softmax')\n",
    "])"
   ]
  },
  {
   "cell_type": "code",
   "execution_count": null,
   "metadata": {},
   "outputs": [],
   "source": [
    "cnn_model.compile(\n",
    "    loss='sparse_categorical_crossentropy',\n",
    "    optimizer=Adam(lr=0.001),\n",
    "    metrics=['accuracy']\n",
    ")"
   ]
  },
  {
   "cell_type": "code",
   "execution_count": null,
   "metadata": {},
   "outputs": [],
   "source": [
    "cnn_model.fit(\n",
    "    X_train, y_train, batch_size=100,\n",
    "    epochs=46, verbose=1,\n",
    "    validation_data=(X_test, y_test)\n",
    ")"
   ]
  },
  {
   "cell_type": "code",
   "execution_count": null,
   "metadata": {},
   "outputs": [],
   "source": [
    "score = cnn_model.evaluate(X_test, y_test, verbose=2)\n",
    "print(f\"Loss: {score[0]}, Accuracy: {score[1]}\")"
   ]
  },
  {
   "cell_type": "code",
   "execution_count": null,
   "metadata": {},
   "outputs": [],
   "source": [
    "cnn_model.save('cnn_model.h5')"
   ]
  }
 ],
 "metadata": {
  "kernelspec": {
   "display_name": "Python [conda env:PythonAdv]",
   "language": "python",
   "name": "conda-env-PythonAdv-py"
  },
  "language_info": {
   "codemirror_mode": {
    "name": "ipython",
    "version": 3
   },
   "file_extension": ".py",
   "mimetype": "text/x-python",
   "name": "python",
   "nbconvert_exporter": "python",
   "pygments_lexer": "ipython3",
   "version": "3.6.13"
  }
 },
 "nbformat": 4,
 "nbformat_minor": 4
}
