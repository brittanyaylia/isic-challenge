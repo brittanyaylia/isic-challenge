{
 "cells": [
  {
   "cell_type": "code",
   "execution_count": null,
   "metadata": {},
   "outputs": [],
   "source": [
    "import cv2\n",
    "import numpy as np\n",
    "import pandas as pd\n",
    "import os"
   ]
  },
  {
   "cell_type": "markdown",
   "metadata": {},
   "source": [
    "### Process data: convert X_train, X_test, y_train, y_test to numpy arrays"
   ]
  },
  {
   "cell_type": "code",
   "execution_count": null,
   "metadata": {},
   "outputs": [],
   "source": [
    "def changelabel(label):\n",
    "    if label == 'benign':\n",
    "        return 0\n",
    "    elif label == 'malignant':\n",
    "        return 1"
   ]
  },
  {
   "cell_type": "code",
   "execution_count": null,
   "metadata": {},
   "outputs": [],
   "source": [
    "# Bring in combined train labels, change labels \"benign\" to \"0\", \"malignant\" to \"1\". \n",
    "# Convert to and save as numpy array\n",
    "df = pd.read_csv('./Labels/train_combined_GT.csv')\n",
    "y_train = df['benign_malignant'].map(changelabel).to_numpy()\n",
    "np.save('./Data/y_train.npy', y_train)"
   ]
  },
  {
   "cell_type": "code",
   "execution_count": null,
   "metadata": {},
   "outputs": [],
   "source": [
    "# Bring in test labels, convert to and save as numpy array\n",
    "df = pd.read_csv('./Labels/ISBI2016_ISIC_Part3_Test_GroundTruth.csv', header=None)\n",
    "y_test = df[1].to_numpy().astype(np.int32)\n",
    "np.save('./Data/y_test.npy', y_test)"
   ]
  },
  {
   "cell_type": "code",
   "execution_count": null,
   "metadata": {},
   "outputs": [],
   "source": [
    "# 1. For every image in training and test folder, obtain the path in a list\n",
    "# 2. Sort the paths in numerical order\n",
    "# 3. Set desired shape\n",
    "# 4. Create an empty array to keep a list of numpy arrays of image pixels\n",
    "\n",
    "def process_x(x_dir, save_name):\n",
    "    train_files = [f.path for f in os.scandir(x_dir)]\n",
    "    train_files.sort()\n",
    "    im_shape = (480, 360)\n",
    "    images = []\n",
    "    \n",
    "    # 5. For every path in the train_files list,\n",
    "    # 6. Read the image in grayscale (0), normalize the pixel values (/255)\n",
    "    # 7. Resize the image\n",
    "    # 8. Append image values to list\n",
    "    \n",
    "    for im_file in train_files:\n",
    "        image = cv2.imread(im_file, 0) / 255\n",
    "        image_rs = cv2.resize(image, im_shape)\n",
    "        images.append(image_rs)\n",
    "    \n",
    "    # 9. Convert the list of arrays to one numpy array, use float32 for keras\n",
    "    # 10. Save numpy array\n",
    "    \n",
    "    x_array = np.array(images).astype(np.float32)\n",
    "    np.save(f'./Data/{save_name}.npy', x_array)"
   ]
  },
  {
   "cell_type": "code",
   "execution_count": null,
   "metadata": {},
   "outputs": [],
   "source": [
    "# Set directory to X Train images\n",
    "x_dir = './Images/ISBI2016_ISIC_Part3_Training_Data'\n",
    "\n",
    "# Call function to process X Train\n",
    "process_x(x_dir, 'X_train')"
   ]
  },
  {
   "cell_type": "code",
   "execution_count": null,
   "metadata": {},
   "outputs": [],
   "source": [
    "# Set directory to X Test images\n",
    "x_dir = './Images/ISBI2016_ISIC_Part3_Test_Data'\n",
    "\n",
    "# Call function to process X Test\n",
    "process_x(x_dir, 'X_test')"
   ]
  }
 ],
 "metadata": {
  "kernelspec": {
   "display_name": "Python [conda env:PythonAdv]",
   "language": "python",
   "name": "conda-env-PythonAdv-py"
  },
  "language_info": {
   "codemirror_mode": {
    "name": "ipython",
    "version": 3
   },
   "file_extension": ".py",
   "mimetype": "text/x-python",
   "name": "python",
   "nbconvert_exporter": "python",
   "pygments_lexer": "ipython3",
   "version": "3.6.13"
  }
 },
 "nbformat": 4,
 "nbformat_minor": 4
}
